{
 "cells": [
  {
   "attachments": {},
   "cell_type": "markdown",
   "metadata": {},
   "source": [
    "# Data Preparation and EDA\n"
   ]
  },
  {
   "attachments": {},
   "cell_type": "markdown",
   "metadata": {},
   "source": [
    "## Importing Packages & Dataset\n"
   ]
  },
  {
   "cell_type": "code",
   "execution_count": 1,
   "metadata": {},
   "outputs": [],
   "source": [
    "# Importing packages we will be using\n",
    "import pandas as pd\n",
    "import missingno as msn\n"
   ]
  },
  {
   "cell_type": "code",
   "execution_count": 2,
   "metadata": {},
   "outputs": [
    {
     "data": {
      "text/html": [
       "<div>\n",
       "<style scoped>\n",
       "    .dataframe tbody tr th:only-of-type {\n",
       "        vertical-align: middle;\n",
       "    }\n",
       "\n",
       "    .dataframe tbody tr th {\n",
       "        vertical-align: top;\n",
       "    }\n",
       "\n",
       "    .dataframe thead th {\n",
       "        text-align: right;\n",
       "    }\n",
       "</style>\n",
       "<table border=\"1\" class=\"dataframe\">\n",
       "  <thead>\n",
       "    <tr style=\"text-align: right;\">\n",
       "      <th></th>\n",
       "      <th>Age</th>\n",
       "      <th>Diastolic BP</th>\n",
       "      <th>Poverty index</th>\n",
       "      <th>Race</th>\n",
       "      <th>Red blood cells</th>\n",
       "      <th>Sedimentation rate</th>\n",
       "      <th>Serum Albumin</th>\n",
       "      <th>Serum Cholesterol</th>\n",
       "      <th>Serum Iron</th>\n",
       "      <th>Serum Magnesium</th>\n",
       "      <th>Serum Protein</th>\n",
       "      <th>Sex</th>\n",
       "      <th>Systolic BP</th>\n",
       "      <th>TIBC</th>\n",
       "      <th>TS</th>\n",
       "      <th>White blood cells</th>\n",
       "      <th>BMI</th>\n",
       "      <th>Pulse pressure</th>\n",
       "      <th>death</th>\n",
       "    </tr>\n",
       "  </thead>\n",
       "  <tbody>\n",
       "    <tr>\n",
       "      <th>0</th>\n",
       "      <td>35.0</td>\n",
       "      <td>92.0</td>\n",
       "      <td>126.0</td>\n",
       "      <td>2.0</td>\n",
       "      <td>77.7</td>\n",
       "      <td>12.0</td>\n",
       "      <td>5.0</td>\n",
       "      <td>165.0</td>\n",
       "      <td>135.0</td>\n",
       "      <td>1.37</td>\n",
       "      <td>7.6</td>\n",
       "      <td>2.0</td>\n",
       "      <td>142.0</td>\n",
       "      <td>323.0</td>\n",
       "      <td>41.8</td>\n",
       "      <td>5.8</td>\n",
       "      <td>31.109434</td>\n",
       "      <td>50.0</td>\n",
       "      <td>1.0</td>\n",
       "    </tr>\n",
       "    <tr>\n",
       "      <th>1</th>\n",
       "      <td>71.0</td>\n",
       "      <td>78.0</td>\n",
       "      <td>210.0</td>\n",
       "      <td>2.0</td>\n",
       "      <td>77.7</td>\n",
       "      <td>37.0</td>\n",
       "      <td>4.0</td>\n",
       "      <td>298.0</td>\n",
       "      <td>89.0</td>\n",
       "      <td>1.38</td>\n",
       "      <td>6.4</td>\n",
       "      <td>2.0</td>\n",
       "      <td>156.0</td>\n",
       "      <td>331.0</td>\n",
       "      <td>26.9</td>\n",
       "      <td>5.3</td>\n",
       "      <td>32.362572</td>\n",
       "      <td>78.0</td>\n",
       "      <td>1.0</td>\n",
       "    </tr>\n",
       "    <tr>\n",
       "      <th>2</th>\n",
       "      <td>74.0</td>\n",
       "      <td>86.0</td>\n",
       "      <td>999.0</td>\n",
       "      <td>2.0</td>\n",
       "      <td>77.7</td>\n",
       "      <td>31.0</td>\n",
       "      <td>3.8</td>\n",
       "      <td>222.0</td>\n",
       "      <td>115.0</td>\n",
       "      <td>1.37</td>\n",
       "      <td>7.4</td>\n",
       "      <td>2.0</td>\n",
       "      <td>170.0</td>\n",
       "      <td>299.0</td>\n",
       "      <td>38.5</td>\n",
       "      <td>8.1</td>\n",
       "      <td>25.388497</td>\n",
       "      <td>84.0</td>\n",
       "      <td>1.0</td>\n",
       "    </tr>\n",
       "    <tr>\n",
       "      <th>3</th>\n",
       "      <td>64.0</td>\n",
       "      <td>92.0</td>\n",
       "      <td>385.0</td>\n",
       "      <td>1.0</td>\n",
       "      <td>77.7</td>\n",
       "      <td>30.0</td>\n",
       "      <td>4.3</td>\n",
       "      <td>265.0</td>\n",
       "      <td>94.0</td>\n",
       "      <td>1.97</td>\n",
       "      <td>7.3</td>\n",
       "      <td>2.0</td>\n",
       "      <td>172.0</td>\n",
       "      <td>349.0</td>\n",
       "      <td>26.9</td>\n",
       "      <td>6.7</td>\n",
       "      <td>26.446610</td>\n",
       "      <td>80.0</td>\n",
       "      <td>0.0</td>\n",
       "    </tr>\n",
       "    <tr>\n",
       "      <th>4</th>\n",
       "      <td>32.0</td>\n",
       "      <td>70.0</td>\n",
       "      <td>183.0</td>\n",
       "      <td>2.0</td>\n",
       "      <td>77.7</td>\n",
       "      <td>18.0</td>\n",
       "      <td>5.0</td>\n",
       "      <td>203.0</td>\n",
       "      <td>192.0</td>\n",
       "      <td>1.35</td>\n",
       "      <td>7.3</td>\n",
       "      <td>1.0</td>\n",
       "      <td>128.0</td>\n",
       "      <td>386.0</td>\n",
       "      <td>49.7</td>\n",
       "      <td>8.1</td>\n",
       "      <td>20.354684</td>\n",
       "      <td>58.0</td>\n",
       "      <td>1.0</td>\n",
       "    </tr>\n",
       "  </tbody>\n",
       "</table>\n",
       "</div>"
      ],
      "text/plain": [
       "    Age  Diastolic BP  Poverty index  Race  Red blood cells  \\\n",
       "0  35.0          92.0          126.0   2.0             77.7   \n",
       "1  71.0          78.0          210.0   2.0             77.7   \n",
       "2  74.0          86.0          999.0   2.0             77.7   \n",
       "3  64.0          92.0          385.0   1.0             77.7   \n",
       "4  32.0          70.0          183.0   2.0             77.7   \n",
       "\n",
       "   Sedimentation rate  Serum Albumin  Serum Cholesterol  Serum Iron  \\\n",
       "0                12.0            5.0              165.0       135.0   \n",
       "1                37.0            4.0              298.0        89.0   \n",
       "2                31.0            3.8              222.0       115.0   \n",
       "3                30.0            4.3              265.0        94.0   \n",
       "4                18.0            5.0              203.0       192.0   \n",
       "\n",
       "   Serum Magnesium  Serum Protein  Sex  Systolic BP   TIBC    TS  \\\n",
       "0             1.37            7.6  2.0        142.0  323.0  41.8   \n",
       "1             1.38            6.4  2.0        156.0  331.0  26.9   \n",
       "2             1.37            7.4  2.0        170.0  299.0  38.5   \n",
       "3             1.97            7.3  2.0        172.0  349.0  26.9   \n",
       "4             1.35            7.3  1.0        128.0  386.0  49.7   \n",
       "\n",
       "   White blood cells        BMI  Pulse pressure  death  \n",
       "0                5.8  31.109434            50.0    1.0  \n",
       "1                5.3  32.362572            78.0    1.0  \n",
       "2                8.1  25.388497            84.0    1.0  \n",
       "3                6.7  26.446610            80.0    0.0  \n",
       "4                8.1  20.354684            58.0    1.0  "
      ]
     },
     "execution_count": 2,
     "metadata": {},
     "output_type": "execute_result"
    }
   ],
   "source": [
    "# Loading the dataset and taking a look at it\n",
    "df = pd.read_csv(\"Data.csv\")\n",
    "df.head()\n"
   ]
  },
  {
   "cell_type": "code",
   "execution_count": 3,
   "metadata": {},
   "outputs": [
    {
     "name": "stdout",
     "output_type": "stream",
     "text": [
      "<class 'pandas.core.frame.DataFrame'>\n",
      "RangeIndex: 8579 entries, 0 to 8578\n",
      "Data columns (total 19 columns):\n",
      " #   Column              Non-Null Count  Dtype  \n",
      "---  ------              --------------  -----  \n",
      " 0   Age                 8579 non-null   float64\n",
      " 1   Diastolic BP        8579 non-null   float64\n",
      " 2   Poverty index       8579 non-null   float64\n",
      " 3   Race                8579 non-null   float64\n",
      " 4   Red blood cells     8579 non-null   float64\n",
      " 5   Sedimentation rate  8579 non-null   float64\n",
      " 6   Serum Albumin       8579 non-null   float64\n",
      " 7   Serum Cholesterol   8579 non-null   float64\n",
      " 8   Serum Iron          8579 non-null   float64\n",
      " 9   Serum Magnesium     8579 non-null   float64\n",
      " 10  Serum Protein       8579 non-null   float64\n",
      " 11  Sex                 8579 non-null   float64\n",
      " 12  Systolic BP         8579 non-null   float64\n",
      " 13  TIBC                8579 non-null   float64\n",
      " 14  TS                  8579 non-null   float64\n",
      " 15  White blood cells   8579 non-null   float64\n",
      " 16  BMI                 8579 non-null   float64\n",
      " 17  Pulse pressure      8579 non-null   float64\n",
      " 18  death               8579 non-null   float64\n",
      "dtypes: float64(19)\n",
      "memory usage: 1.2 MB\n"
     ]
    }
   ],
   "source": [
    "# Having some insights about our datase\n",
    "df.info()\n"
   ]
  },
  {
   "attachments": {},
   "cell_type": "markdown",
   "metadata": {},
   "source": [
    "## Dividing Features into Categorical & Quantitative Features\n"
   ]
  },
  {
   "cell_type": "code",
   "execution_count": 4,
   "metadata": {},
   "outputs": [
    {
     "name": "stdout",
     "output_type": "stream",
     "text": [
      "Categorical features are: ['Race', 'Sex', 'death']\n"
     ]
    }
   ],
   "source": [
    "# Our categorical features\n",
    "categorical_features = [\"Race\", \"Sex\", \"death\"]\n",
    "print(f\"Categorical features are: {[c for c in categorical_features]}\")\n"
   ]
  },
  {
   "cell_type": "code",
   "execution_count": 5,
   "metadata": {},
   "outputs": [
    {
     "name": "stdout",
     "output_type": "stream",
     "text": [
      "Quantitative features are: ['Age', 'Diastolic BP', 'Poverty index', 'Red blood cells', 'Sedimentation rate', 'Serum Albumin', 'Serum Cholesterol', 'Serum Iron', 'Serum Magnesium', 'Serum Protein', 'Systolic BP', 'TIBC', 'TS', 'White blood cells', 'BMI', 'Pulse pressure']\n"
     ]
    }
   ],
   "source": [
    "# Our quantitative features\n",
    "quantitative_features = [\n",
    "    q for q in df.columns if q not in categorical_features]\n",
    "print(f\"Quantitative features are: {quantitative_features}\")\n"
   ]
  },
  {
   "attachments": {},
   "cell_type": "markdown",
   "metadata": {},
   "source": [
    "Categorical features:\n",
    "\n",
    "- Race\n",
    "- Sex\n",
    "- Death\n",
    "\n",
    "Quantitative features:\n",
    "\n",
    "- Age\n",
    "- Diastolic BP\n",
    "- Poverty Index\n",
    "- Red Blood Cells\n",
    "- Sedimentation Rate\n",
    "- Serum Albumin\n",
    "- Serum Cholesterol\n",
    "- Serum Iron\n",
    "- Serum Magnesium\n",
    "- Serum Protein\n",
    "- Systolic BP\n",
    "- TIBC\n",
    "- TS\n",
    "- White Blood Cells\n",
    "- BMI\n",
    "- Pulse Pressure\n"
   ]
  },
  {
   "attachments": {},
   "cell_type": "markdown",
   "metadata": {},
   "source": [
    "## Data Cleaning\n"
   ]
  },
  {
   "cell_type": "code",
   "execution_count": 6,
   "metadata": {},
   "outputs": [
    {
     "data": {
      "text/plain": [
       "<AxesSubplot:>"
      ]
     },
     "execution_count": 6,
     "metadata": {},
     "output_type": "execute_result"
    },
    {
     "data": {
      "image/png": "[encoded data removed]",
      "text/plain": [
       "<Figure size 1800x720 with 2 Axes>"
      ]
     },
     "metadata": {
      "needs_background": "light"
     },
     "output_type": "display_data"
    }
   ],
   "source": [
    "# Searching whether there is any null values or not\n",
    "msn.matrix(df)\n"
   ]
  },
  {
   "cell_type": "code",
   "execution_count": 7,
   "metadata": {},
   "outputs": [
    {
     "name": "stdout",
     "output_type": "stream",
     "text": [
      "Age : False\n",
      "Diastolic BP : False\n",
      "Poverty index : False\n",
      "Race : False\n",
      "Red blood cells : False\n",
      "Sedimentation rate : False\n",
      "Serum Albumin : False\n",
      "Serum Cholesterol : False\n",
      "Serum Iron : False\n",
      "Serum Magnesium : False\n",
      "Serum Protein : False\n",
      "Sex : False\n",
      "Systolic BP : False\n",
      "TIBC : False\n",
      "TS : False\n",
      "White blood cells : False\n",
      "BMI : False\n",
      "Pulse pressure : False\n",
      "death : True\n"
     ]
    }
   ],
   "source": [
    "# Checking whether we have any quantitative zero values or not\n",
    "for feature in df.columns:\n",
    "    print(f\"{feature} : {df[feature].eq(0).any()}\")\n"
   ]
  },
  {
   "cell_type": "code",
   "execution_count": 8,
   "metadata": {},
   "outputs": [
    {
     "data": {
      "text/plain": [
       "False"
      ]
     },
     "execution_count": 8,
     "metadata": {},
     "output_type": "execute_result"
    }
   ],
   "source": [
    "# Checking whether we have any duplicate rows or not\n",
    "df.duplicated().any()\n"
   ]
  },
  {
   "cell_type": "code",
   "execution_count": 9,
   "metadata": {},
   "outputs": [
    {
     "name": "stdout",
     "output_type": "stream",
     "text": [
      "Stored 'df' (DataFrame)\n",
      "Stored 'quantitative_features' (list)\n",
      "Stored 'categorical_features' (list)\n"
     ]
    }
   ],
   "source": [
    "%store df quantitative_features categorical_features"
   ]
  }
 ],
 "metadata": {
  "kernelspec": {
   "display_name": "Python 3",
   "language": "python",
   "name": "python3"
  },
  "language_info": {
   "codemirror_mode": {
    "name": "ipython",
    "version": 3
   },
   "file_extension": ".py",
   "mimetype": "text/x-python",
   "name": "python",
   "nbconvert_exporter": "python",
   "pygments_lexer": "ipython3",
   "version": "3.9.12"
  },
  "orig_nbformat": 4
 },
 "nbformat": 4,
 "nbformat_minor": 2
}
