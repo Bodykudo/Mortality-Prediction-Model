{
 "cells": [
  {
   "attachments": {},
   "cell_type": "markdown",
   "metadata": {},
   "source": [
    "# Splitting Data\n"
   ]
  },
  {
   "cell_type": "code",
   "execution_count": 1,
   "metadata": {},
   "outputs": [],
   "source": [
    "# Importing packages we will be using\n",
    "from sklearn.model_selection import train_test_split\n",
    "%store -r boxcox_df categorical_features standard_df\n"
   ]
  },
  {
   "attachments": {},
   "cell_type": "markdown",
   "metadata": {},
   "source": [
    "We will split our dataset into $2$ partitions with $80\\%-20\\%$ proption:\n",
    "\n",
    "- The $80\\%$ partition is called the training data.\n",
    "- The $20\\%$ partition is called the testing data\n"
   ]
  },
  {
   "cell_type": "code",
   "execution_count": 2,
   "metadata": {},
   "outputs": [],
   "source": [
    "for cat in categorical_features:\n",
    "    standard_df[cat] = boxcox_df[cat]"
   ]
  },
  {
   "cell_type": "code",
   "execution_count": 3,
   "metadata": {},
   "outputs": [
    {
     "name": "stdout",
     "output_type": "stream",
     "text": [
      "Target features shape: (5384,)\n",
      "Features shape: (5384, 18)\n"
     ]
    }
   ],
   "source": [
    "transformed_data = standard_df.copy(deep=True)\n",
    "features = transformed_data.drop(\"death\", axis=1)\n",
    "targets = transformed_data[\"death\"]\n",
    "print(f\"Target features shape: {targets.shape}\")\n",
    "print(f\"Features shape: {features.shape}\")\n"
   ]
  },
  {
   "cell_type": "code",
   "execution_count": 4,
   "metadata": {},
   "outputs": [],
   "source": [
    "X_train, X_test, y_train, y_test = train_test_split(\n",
    "    features, targets,  random_state=0, test_size=0.2)\n",
    "assert X_train.shape[0] == y_train.shape[0]\n"
   ]
  },
  {
   "cell_type": "code",
   "execution_count": 5,
   "metadata": {},
   "outputs": [
    {
     "name": "stdout",
     "output_type": "stream",
     "text": [
      "Stored 'transformed_data' (DataFrame)\n",
      "Stored 'features' (DataFrame)\n",
      "Stored 'targets' (Series)\n",
      "Stored 'X_train' (DataFrame)\n",
      "Stored 'X_test' (DataFrame)\n",
      "Stored 'y_train' (Series)\n",
      "Stored 'y_test' (Series)\n"
     ]
    }
   ],
   "source": [
    "%store transformed_data features targets X_train X_test y_train y_test"
   ]
  }
 ],
 "metadata": {
  "kernelspec": {
   "display_name": "Python 3",
   "language": "python",
   "name": "python3"
  },
  "language_info": {
   "codemirror_mode": {
    "name": "ipython",
    "version": 3
   },
   "file_extension": ".py",
   "mimetype": "text/x-python",
   "name": "python",
   "nbconvert_exporter": "python",
   "pygments_lexer": "ipython3",
   "version": "3.9.12"
  },
  "orig_nbformat": 4
 },
 "nbformat": 4,
 "nbformat_minor": 2
}
