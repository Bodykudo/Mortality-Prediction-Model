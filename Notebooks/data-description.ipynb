{
 "cells": [
  {
   "attachments": {},
   "cell_type": "markdown",
   "metadata": {},
   "source": [
    "# Data Description\n"
   ]
  },
  {
   "attachments": {},
   "cell_type": "markdown",
   "metadata": {},
   "source": [
    "## Data Source\n",
    "The used dataset is the NDI (National Death Index) Mortality Data, The NCHS (National Center for Health Statistics) has linked data from various surveys with death certificate records from the National Death Index (NDI).\n",
    "Some of the surveys are:\n",
    "- National Health Interview Survey (NHIS): 1986 – 2018\n",
    "- National Health and Nutrition Examination Surveys (NHANES): 1999-2018\n",
    "- Third National Health and Nutrition Examination Survey (NHANES III)\n",
    "- NHANES I Epidemiologic Follow-up Study (NHEFS)\n",
    "- National Nursing Home Surveys (NNHS): 1985, 1995, 1997, 2004\n",
    "- The Second Longitudinal Study of Aging (LSOA II)\n",
    "\n",
    "The dataset consists of 8579 records, 18 features and one label column."
   ]
  },
  {
   "attachments": {},
   "cell_type": "markdown",
   "metadata": {},
   "source": [
    "## Dataset Features Description"
   ]
  },
  {
   "attachments": {},
   "cell_type": "markdown",
   "metadata": {},
   "source": [
    "| Feature            | Description                                                                                                                                                                                                    |\n",
    "| ------------------ | -------------------------------------------------------------------------------------------------------------------------------------------------------------------------------------------------------------- |\n",
    "| Age                | A numerical representation of an individual's age.                                                                                                                                                             |\n",
    "| Diastolic BP       | The blood pressure when the heart is at rest, indicating the pressure on artery walls during relaxation.                                                                                                       |\n",
    "| Poverty Index      | A measure of poverty levels within a population or area, considering socioeconomic factors.                                                                                                                    |\n",
    "| Race               | Categorization based on ethnic or racial backgrounds, represented by specific values for different groups. (1: Non-Hispanic White, 2: Non-Hispanic Black or African American, 3: Mexican American or Hispanic) |\n",
    "| Red Blood Cells    | Blood cells that carry oxygen throughout the body using the protein hemoglobin.                                                                                                                                |\n",
    "| Sedimentation Rate | Measures how quickly red blood cells settle in a test tube, often indicating inflammation or certain diseases.                                                                                                 |\n",
    "| Serum Albumin      | Liver-produced protein that helps maintain fluid balance and transports substances in the blood.                                                                                                               |\n",
    "| Serum Cholesterol  | Measures the amount of cholesterol in the blood, which can impact heart disease risk.                                                                                                                          |\n",
    "| Serum Iron         | Measures the concentration of iron in the blood, essential for red blood cell production and oxygen transport.                                                                                                 |\n",
    "| Serum Magnesium    | Measures the level of magnesium, an important mineral involved in various bodily functions.                                                                                                                    |\n",
    "| Serum Protein      | Measures the total amount of proteins in the blood, with multiple roles in the body.                                                                                                                           |\n",
    "| Sex                | Biological categorization of individuals as male or female. (1: Male, 2: Female)                                                                                                                               |\n",
    "| Systolic BP        | The blood pressure when the heart contracts, representing maximum pressure during a heartbeat.                                                                                                                 |\n",
    "| TIBC               | Total Iron-Binding Capacity: Measures the capacity of proteins to bind with iron, providing information about iron levels and related disorders.                                                               |\n",
    "| TS                 | Transferrin Saturation: Percentage of transferrin protein's iron-binding sites occupied by iron, indicating the body's iron status.                                                                            |\n",
    "| White Blood Cells  | Immune cells that defend against infections and foreign substances.                                                                                                                                            |\n",
    "| BMI                | Body Mass Index: Numeric value calculated from weight and height, used to assess weight status and potential obesity.                                                                                          |\n",
    "| Pulse Pressure     | Difference between systolic and diastolic blood pressure, reflecting heart force and artery health.                                                                                                            |\n",
    "| Death              | Binary value indicating low or high risk of death in the next 10 years based on specific factors or predictive models. (0: Low risk of death in 10 years, 1: High risk of death in 10 years)                   |\n"
   ]
  }
 ],
 "metadata": {
  "language_info": {
   "name": "python"
  },
  "orig_nbformat": 4
 },
 "nbformat": 4,
 "nbformat_minor": 2
}
